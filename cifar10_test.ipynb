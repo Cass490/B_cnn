{
 "cells": [
  {
   "cell_type": "code",
   "execution_count": 13,
   "id": "80fa6459-d47d-4fb1-8229-58a5d467a2ea",
   "metadata": {},
   "outputs": [],
   "source": [
    "import os\n",
    "import numpy as np\n",
    "import tensorflow as tf\n",
    "from keras.datasets import cifar10  # Changed from mnist\n",
    "import matplotlib.pyplot as plt\n",
    "from sklearn.decomposition import PCA\n",
    "from sklearn.svm import SVC, LinearSVC\n",
    "from sklearn.metrics import accuracy_score\n",
    "import bloqade\n",
    "from bloqade.ir.location import Chain, start\n"
   ]
  },
  {
   "cell_type": "code",
   "execution_count": 14,
   "id": "6156f1dd-6311-4d08-b13b-134d75aa4944",
   "metadata": {},
   "outputs": [],
   "source": [
    "import time"
   ]
  },
  {
   "cell_type": "code",
   "execution_count": 15,
   "id": "84b1bac3-4196-470f-a87b-e4c773cf9c8e",
   "metadata": {},
   "outputs": [],
   "source": [
    "import bloqade\n",
    "from bloqade.ir.location import Chain, start"
   ]
  },
  {
   "cell_type": "code",
   "execution_count": 16,
   "id": "0787924e-91cc-4b2b-8f31-59f92f4f8911",
   "metadata": {},
   "outputs": [
    {
     "name": "stdout",
     "output_type": "stream",
     "text": [
      "X_train: (50000, 32, 32)\n",
      "Y_train: (50000, 1)\n",
      "X_test: (10000, 32, 32)\n",
      "Y_test: (10000, 1)\n"
     ]
    },
    {
     "data": {
      "image/png": "[encoded data removed]",
      "text/plain": [
       "<Figure size 640x480 with 1 Axes>"
      ]
     },
     "metadata": {},
     "output_type": "display_data"
    }
   ],
   "source": [
    "# Load CIFAR-10 dataset and rescale data\n",
    "(train_X, train_y), (test_X, test_y) = cifar10.load_data()\n",
    "train_X, test_X = train_X / 255.0, test_X / 255.0\n",
    "\n",
    "# Convert to grayscale\n",
    "train_X_gray = np.mean(train_X, axis=3)\n",
    "test_X_gray = np.mean(test_X, axis=3)\n",
    "\n",
    "# Print data dimensions\n",
    "print('X_train:', train_X_gray.shape)\n",
    "print('Y_train:', train_y.shape)\n",
    "print('X_test:', test_X_gray.shape)\n",
    "print('Y_test:', test_y.shape)\n",
    "\n",
    "# Example of a training dataset image\n",
    "plt.imshow(train_X_gray[0], cmap=plt.get_cmap('gray'), interpolation='None')\n",
    "plt.axis('off')\n",
    "plt.show()"
   ]
  },
  {
   "cell_type": "code",
   "execution_count": null,
   "id": "d2b76891-831b-40bb-9f7a-708d95f3cee1",
   "metadata": {},
   "outputs": [],
   "source": [
    "# Load CIFAR-10 dataset and rescale data\n",
    "(train_X, train_y), (test_X, test_y) = cifar10.load_data()\n",
    "train_X, test_X = train_X / 255.0, test_X / 255.0\n",
    "\n",
    "# Convert to grayscale\n",
    "train_X_gray = np.mean(train_X, axis=3) \n",
    "test_X_gray = np.mean(test_X, axis=3)\n",
    "\n",
    "# Reshape for autoencoder\n",
    "train_X_reshape = train_X_gray.reshape(len(train_X_gray), -1)\n",
    "test_X_reshape = test_X_gray.reshape(len(test_X_gray), -1)\n",
    "\n",
    "# Hyperparameters\n",
    "dim_ae = 8  # Latent dimension for Autoencoder\n",
    "num_train_examples = 1000\n",
    "num_test_examples = 200\n",
    "\n",
    "# Prepare data\n",
    "train_X_ae = train_X_reshape[:num_train_examples]\n",
    "test_X_ae = test_X_reshape[:num_test_examples]\n",
    "\n",
    "# Autoencoder Model\n",
    "from keras.models import Sequential\n",
    "from keras.layers import Dense, Dropout\n",
    "\n",
    "autoencoder = Sequential()\n",
    "autoencoder.add(Dense(256, input_dim=train_X_reshape.shape[1], activation='relu'))\n",
    "autoencoder.add(Dropout(0.3))\n",
    "autoencoder.add(Dense(128, activation='relu'))\n",
    "autoencoder.add(Dense(dim_ae, activation='linear'))\n",
    "autoencoder.add(Dense(128, activation='relu'))\n",
    "autoencoder.add(Dropout(0.3))\n",
    "autoencoder.add(Dense(256, activation='relu'))\n",
    "autoencoder.add(Dense(train_X_reshape.shape[1], activation='sigmoid'))\n",
    "\n",
    "autoencoder.compile(optimizer='adam', loss='mse')\n",
    "\n",
    "# Train the Autoencoder\n",
    "autoencoder.fit(train_X_ae, train_X_ae, \n",
    "                epochs=500, batch_size=64, \n",
    "                validation_data=(test_X_ae, test_X_ae))\n",
    "\n",
    "# Get encoded representations\n",
    "encoder = Model(inputs=autoencoder.input, outputs=autoencoder.get_layer(index=3).output)\n",
    "xs_ae = encoder.predict(train_X_ae)\n",
    "xt_ae = encoder.predict(test_X_ae)\n",
    "\n",
    "# Scaling the AE components\n",
    "spectral_ae = np.amax(xs_ae) - np.amin(xs_ae)\n",
    "m1_ae = np.amin(xs_ae)\n",
    "xs_ae_scaled = (xs_ae - m1_ae) / spectral_ae\n",
    "xt_ae_scaled = (xt_ae - m1_ae) / spectral_ae\n",
    "\n",
    "print(\"Min AE =\", np.min(xs_ae_scaled))\n",
    "print(\"Max AE =\", np.max(xs_ae_scaled))"
   ]
  },
  {
   "cell_type": "code",
   "execution_count": null,
   "id": "1ee6d72b-2768-43ec-8630-057af76d25c3",
   "metadata": {},
   "outputs": [],
   "source": [
    " spectral = np.amax(xs) - np.amin(xs)\n",
    " m1 = np.amin(xs)\n",
    " xs = (xs - m1) / spectral  # to make sure values to be between [0, 1]\n",
    " xt=pca.transform(np.reshape(test_X, (10000,-1)))\n",
    " num_test_examples = 200\n",
    " xs_test = xt[:num_test_examples,:]\n",
    " xs_test = (xs_test - m1)/spectral"
   ]
  },
  {
   "cell_type": "code",
   "execution_count": null,
   "id": "8f136edd-6689-4e62-83d9-70cf5b7144ad",
   "metadata": {},
   "outputs": [],
   "source": [
    "QRC_parameters = {\n",
    "    \"atom_number\": dim_pca,\n",
    "    \"geometry_spec\": Chain(dim_pca, lattice_spacing=10),\n",
    "    \"encoding_scale\": 9.0,\n",
    "    \"rabi_frequency\": 6.283,\n",
    "    \"total_time\": 4,\n",
    "    \"time_steps\": 8,\n",
    "    \"readouts\": \"ZZ\",\n",
    "}"
   ]
  },
  {
   "cell_type": "code",
   "execution_count": null,
   "id": "95a22f61-8764-4dd1-a6fa-4a6e7cbac158",
   "metadata": {},
   "outputs": [],
   "source": [
    " #Main function for building quantum tasks.\n",
    " def build_task(QRC_parameters, xs1):\n",
    "     natoms=QRC_parameters[\"atom_number\"]\n",
    "     encoding_scale=QRC_parameters[\"encoding_scale\"]\n",
    "     dt=QRC_parameters[\"total_time\"]/QRC_parameters[\"time_steps\"]\n",
    "     #builds global Rabi and detuning pulses\n",
    "     rabi_oscillations_program = (QRC_parameters[\"geometry_spec\"]\n",
    "             .rydberg.rabi.amplitude.uniform.constant(\n",
    "                 duration=\"run_time\", value=QRC_parameters[\"rabi_frequency\"]\n",
    "             )\n",
    "             .detuning.uniform.constant(duration=\"run_time\", value=encoding_scale/2)\n",
    "             #adds local detuning according to the feature vector\n",
    "             .scale(list(xs1)).constant(duration=\"run_time\", value=-encoding_scale)\n",
    "             )\n",
    "     rabi_oscillation_job = rabi_oscillations_program.batch_assign(run_time=np.arange(1, QRC_parameters[\"time_steps\"]+1, 1)*dt)\n",
    "     #`batch_assign` used to probe the quantum reservoir at set number of timesteps\n",
    "     return rabi_oscillation_job\n",
    "\n",
    " #To obtain the embeddings, we process the report containing the collected samples into embeddins made of Z and ZZ observables.\n",
    " def process_results(QRC_parameters, report):\n",
    "     embedding=[]\n",
    "     natoms=QRC_parameters[\"atom_number\"]\n",
    "     try:\n",
    "         for t in range(QRC_parameters[\"time_steps\"]):\n",
    "             ar1=-1.0+2*((report.bitstrings())[t])\n",
    "             nsh1=ar1.shape[0]\n",
    "             for i in range(natoms):\n",
    "                 embedding.append(np.sum(ar1[:,i])/nsh1) #Z expectation values\n",
    "             if QRC_parameters[\"readouts\"]==\"ZZ\":\n",
    "                 for i in range(natoms):\n",
    "                     for j in range(i+1,natoms):\n",
    "                         embedding.append(np.sum(ar1[:,i]*ar1[:,j])/nsh1) #ZZ expectation values\n",
    "     except: #In case no experimental results were obtained.\n",
    "         print(\"No results exist.\")\n",
    "         for t in range(QRC_parameters[\"time_steps\"]):\n",
    "             for i in range(natoms):\n",
    "                 embedding.append(0.0)\n",
    "             if QRC_parameters[\"readouts\"]==\"ZZ\":\n",
    "                 for i in range(natoms):\n",
    "                     for j in range(i+1,natoms):\n",
    "                         embedding.append(0.0)\n",
    "     return embedding\n",
    "\n",
    " #Processing if only samples are needed.\n",
    " def process_results_samples(QRC_parameters, report):\n",
    "     embedding=[]\n",
    "     natoms=QRC_parameters[\"atom_number\"]\n",
    "     try:\n",
    "         embedding=report.bitstrings()\n",
    "         # for t in range(QRC_parameters[\"time_steps\"]):\\n\",\n",
    "         #     ar1=-1.0+2*((report.bitstrings())[t])\\n\",\n",
    "         #     nsh1=ar1.shape[0]\\n\",\n",
    "         #     for i in range(natoms):\\n\",\n",
    "         #         embedding.append(np.sum(ar1[:,i])/nsh1) #Z expectation values\\n\",\n",
    "         #     if QRC_parameters[\"readouts\"]==\"ZZ\":\\n\",\n",
    "         #         for i in range(natoms):\\n\",\n",
    "         #             for j in range(i+1,natoms):\\n\",\n",
    "         #                 embedding.append(np.sum(ar1[:,i]*ar1[:,j])/nsh1) #ZZ expectation values\\n\",\n",
    "     except: #In case no experimental results were obtained.\n",
    "         print(\"No results exist.\")\n",
    "         for t in range(QRC_parameters[\"time_steps\"]):\n",
    "             for i in range(natoms):\n",
    "                 embedding.append(0.0)\n",
    "             if QRC_parameters[\"readouts\"]==\"ZZ\":\n",
    "                 for i in range(natoms):\n",
    "                     for j in range(i+1,natoms):\n",
    "                         embedding.append(0.0)\n",
    "     return embedding"
   ]
  },
  {
   "cell_type": "code",
   "execution_count": null,
   "id": "0f54db4a-65af-4795-8dc7-d179c37e4c20",
   "metadata": {},
   "outputs": [],
   "source": [
    "\n",
    "def get_embeddings_emulation(xs, num_examples, nshots=1000):\n",
    "    start_time = time.time()\n",
    "    result = np.array([process_results(QRC_parameters,\n",
    "        build_task(QRC_parameters, xs[data,:]).bloqade.python().run(shots=nshots, rtol=1e-8, atol=1e-8).report())\n",
    "        for data in range(num_examples)])\n",
    "    end_time = time.time()\n",
    "    print(f\"Bloqade Simulation Time: {round(end_time-start_time, 2)} seconds\")\n",
    "    return result"
   ]
  },
  {
   "cell_type": "code",
   "execution_count": null,
   "id": "404a44bf-cef9-48aa-9438-f40266916a64",
   "metadata": {},
   "outputs": [],
   "source": [
    "embeddings=get_embeddings_emulation(xs, num_examples, nshots=1000)\n",
    "test_embeddings=get_embeddings_emulation(xs_test, num_test_examples, nshots=1000)\n",
    "\n",
    "print(embeddings.shape)\n",
    "print(test_embeddings.shape)"
   ]
  },
  {
   "cell_type": "code",
   "execution_count": null,
   "id": "3dc71c72-f0a8-4290-8ea3-8022db89dc43",
   "metadata": {},
   "outputs": [],
   "source": [
    "#building a linear model\n",
    "model = tf.keras.Sequential([\n",
    "    tf.keras.layers.Dense(10)\n",
    "    ])\n",
    "model.compile(optimizer=tf.keras.optimizers.Adam(learning_rate=0.1),\n",
    "              loss=tf.keras.losses.SparseCategoricalCrossentropy(from_logits=True),\n",
    "              metrics=['accuracy'])\n",
    "\n",
    "#fitting to train data\n",
    "model.fit(xs, train_y[:num_examples], epochs=1000, batch_size=100, verbose=0)\n",
    "\n",
    "#evaluating on test data\n",
    "test_loss, test_acc = model.evaluate(xs_test,  test_y[:num_test_examples], verbose=0)\n",
    "print('PCA test accuracy:', 100*round(test_acc, 2), \"%\")"
   ]
  },
  {
   "cell_type": "code",
   "execution_count": null,
   "id": "cc3cac4b-0345-40fb-8d62-efe2e86b5f49",
   "metadata": {},
   "outputs": [],
   "source": [
    "#building a linear model\n",
    "#we include regularization and tune epsilon parameter of the optimizer to better control training from QRC embeddings generated on finite number of samples\n",
    "model = tf.keras.Sequential([\n",
    "    tf.keras.layers.Dense(10, kernel_regularizer=tf.keras.regularizers.L1(l1=0.0001))\n",
    "    ])\n",
    "model.compile(optimizer=tf.keras.optimizers.Adam(epsilon=0.0002),\n",
    "              loss=tf.keras.losses.SparseCategoricalCrossentropy(from_logits=True),\n",
    "              metrics=['accuracy'])\n",
    "\n",
    "#fitting to train data\n",
    "model.fit(embeddings, train_y[:num_examples], epochs=2000, batch_size=100, verbose=0)\n",
    "\n",
    "#evaluating on test data\n",
    "test_loss, test_acc = model.evaluate(test_embeddings,  test_y[:num_test_examples], verbose=0)\n",
    "print('QRC test accuracy:', 100*round(test_acc, 2), \"%\")"
   ]
  },
  {
   "cell_type": "code",
   "execution_count": null,
   "id": "ff895425-9098-4a3b-b851-40f9d0a6703d",
   "metadata": {},
   "outputs": [],
   "source": []
  },
  {
   "cell_type": "code",
   "execution_count": null,
   "id": "055d3f02-9ba6-43ea-97ca-1ee3144728b0",
   "metadata": {},
   "outputs": [],
   "source": []
  }
 ],
 "metadata": {
  "kernelspec": {
   "display_name": "Python 3 (ipykernel)",
   "language": "python",
   "name": "python3"
  },
  "language_info": {
   "codemirror_mode": {
    "name": "ipython",
    "version": 3
   },
   "file_extension": ".py",
   "mimetype": "text/x-python",
   "name": "python",
   "nbconvert_exporter": "python",
   "pygments_lexer": "ipython3",
   "version": "3.11.11"
  }
 },
 "nbformat": 4,
 "nbformat_minor": 5
}
