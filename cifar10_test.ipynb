{
 "cells": [
  {
   "cell_type": "code",
   "execution_count": 1,
   "id": "80fa6459-d47d-4fb1-8229-58a5d467a2ea",
   "metadata": {},
   "outputs": [],
   "source": [
    "import os\n",
    "import numpy as np\n",
    "import tensorflow as tf\n",
    "from keras.datasets import cifar10  # Changed from mnist\n",
    "import matplotlib.pyplot as plt\n",
    "from sklearn.decomposition import PCA\n",
    "from sklearn.svm import SVC, LinearSVC\n",
    "from sklearn.metrics import accuracy_score\n",
    "import bloqade\n",
    "from bloqade.ir.location import Chain, start\n"
   ]
  },
  {
   "cell_type": "code",
   "execution_count": 16,
   "id": "6156f1dd-6311-4d08-b13b-134d75aa4944",
   "metadata": {},
   "outputs": [],
   "source": [
    "import time"
   ]
  },
  {
   "cell_type": "code",
   "execution_count": 2,
   "id": "84b1bac3-4196-470f-a87b-e4c773cf9c8e",
   "metadata": {},
   "outputs": [],
   "source": [
    "import bloqade\n",
    "from bloqade.ir.location import Chain, start"
   ]
  },
  {
   "cell_type": "code",
   "execution_count": 4,
   "id": "0787924e-91cc-4b2b-8f31-59f92f4f8911",
   "metadata": {},
   "outputs": [
    {
     "name": "stdout",
     "output_type": "stream",
     "text": [
      "X_train: (50000, 32, 32, 3)\n",
      "Y_train: (50000, 1)\n",
      "X_test: (10000, 32, 32, 3)\n",
      "Y_test: (10000, 1)\n"
     ]
    },
    {
     "data": {
      "image/png": "[encoded data removed]",
      "text/plain": [
       "<Figure size 640x480 with 1 Axes>"
      ]
     },
     "metadata": {},
     "output_type": "display_data"
    }
   ],
   "source": [
    "# Load CIFAR-10 dataset and rescaling data\n",
    "(train_X, train_y), (test_X, test_y) = cifar10.load_data()\n",
    "train_X, test_X = train_X / 255.0, test_X / 255.0\n",
    "\n",
    "# Data Dimensions\n",
    "print('X_train:', train_X.shape)\n",
    "print('Y_train:', train_y.shape)\n",
    "print('X_test:', test_X.shape)\n",
    "print('Y_test:', test_y.shape)\n",
    "\n",
    "# example of an training dataset \n",
    "plt.imshow(train_X[0], cmap=plt.get_cmap('gray'), interpolation='None')\n",
    "plt.axis('off')\n",
    "plt.show()"
   ]
  },
  {
   "cell_type": "code",
   "execution_count": 6,
   "id": "d2b76891-831b-40bb-9f7a-708d95f3cee1",
   "metadata": {},
   "outputs": [
    {
     "name": "stdout",
     "output_type": "stream",
     "text": [
      "Training set PCA: \n",
      "  [[-6.40101763e+00  2.72903876e+00  1.50171052e+00  2.95333215e+00\n",
      "   4.45258258e+00  6.47149958e-01  5.68986220e-01  9.28834333e-02]\n",
      " [ 8.29783385e-01 -9.49943219e-01  6.00375260e+00 -1.50493074e+00\n",
      "   1.36850240e+00  1.22568440e+00  6.06899832e-01 -5.22881814e-01]\n",
      " [ 7.73019978e+00 -1.15221023e+01 -2.75362051e+00 -2.33359487e+00\n",
      "   1.58440759e+00 -2.27220860e+00 -6.10444124e-01 -1.36143919e+00]\n",
      " [-1.03478173e+01  1.07381130e-02  1.10101881e+00  1.30454034e+00\n",
      "   1.59486951e+00  8.67599483e-01  1.94111689e-01  2.32407309e-01]\n",
      " [-2.62565098e+00 -4.96923990e+00  1.03458548e+00 -3.30645747e+00\n",
      "  -1.26168555e+00  3.12354808e-02  5.65550129e+00  1.42667535e+00]] \n",
      "\n",
      "Test set PCA: \n",
      "  [[-3.47967057  0.90642637  1.25195572 -3.16419262  1.91824559  1.65949855\n",
      "  -0.06809121  0.16057353]\n",
      " [ 9.94315784 -9.58055259  5.068578    2.96119979 -1.11001203 -0.26661162\n",
      "  -1.1476403  -3.26161724]\n",
      " [ 4.70429957 -8.83720616  4.10928531 -1.03072134 -0.2044476  -0.91175006\n",
      "   5.31384971  1.12309028]\n",
      " [ 8.04640786 -3.81243501  6.26806137  0.79973283  0.16030865  4.55828985\n",
      "   0.98826786  0.8928017 ]\n",
      " [-5.25461538  4.32097906  1.84434414  0.78448797 -0.38674739  0.41070344\n",
      "   0.66687744  1.02899472]] \n"
     ]
    }
   ],
   "source": [
    "# We first use PCA to downsample the data into 10-dimensional vectors\n",
    "dim_pca = 8\n",
    "num_examples = 1000\n",
    "num_test_examples = 200\n",
    "\n",
    "# Use the `fit` function from the `sklearn` package to define the PCA model and apply to training set\n",
    "train_X_reshaped = np.reshape(train_X, (len(train_X), -1))\n",
    "test_X_reshaped = np.reshape(test_X, (len(test_X), -1))\n",
    "\n",
    "pca=PCA(n_components=dim_pca).fit(train_X_reshaped)\n",
    "xs = pca.transform(train_X_reshaped)[:num_examples,:]\n",
    "xt=pca.transform(test_X_reshaped)[:num_test_examples,:]\n",
    "\n",
    "# Let us see how it looks\n",
    "print(\"Training set PCA: \\n \", xs[0:5,:], \"\\n\")\n",
    "\n",
    "#processing the test set\n",
    "# Let us see how it looks\n",
    "print(\"Test set PCA: \\n \", xt[0:5,:], \"\")"
   ]
  },
  {
   "cell_type": "code",
   "execution_count": 10,
   "id": "1ee6d72b-2768-43ec-8630-057af76d25c3",
   "metadata": {},
   "outputs": [],
   "source": [
    " spectral = np.amax(xs) - np.amin(xs)\n",
    " m1 = np.amin(xs)\n",
    " xs = (xs - m1) / spectral  # to make sure values to be between [0, 1]\n",
    " xt=pca.transform(np.reshape(test_X, (10000,-1)))\n",
    " num_test_examples = 200\n",
    " xs_test = xt[:num_test_examples,:]\n",
    " xs_test = (xs_test - m1)/spectral"
   ]
  },
  {
   "cell_type": "code",
   "execution_count": 11,
   "id": "8f136edd-6689-4e62-83d9-70cf5b7144ad",
   "metadata": {},
   "outputs": [],
   "source": [
    "QRC_parameters = {\n",
    "    \"atom_number\": dim_pca,\n",
    "    \"geometry_spec\": Chain(dim_pca, lattice_spacing=10),\n",
    "    \"encoding_scale\": 9.0,\n",
    "    \"rabi_frequency\": 6.283,\n",
    "    \"total_time\": 4,\n",
    "    \"time_steps\": 8,\n",
    "    \"readouts\": \"ZZ\",\n",
    "}"
   ]
  },
  {
   "cell_type": "code",
   "execution_count": 12,
   "id": "95a22f61-8764-4dd1-a6fa-4a6e7cbac158",
   "metadata": {},
   "outputs": [],
   "source": [
    " #Main function for building quantum tasks.\n",
    " def build_task(QRC_parameters, xs1):\n",
    "     natoms=QRC_parameters[\"atom_number\"]\n",
    "     encoding_scale=QRC_parameters[\"encoding_scale\"]\n",
    "     dt=QRC_parameters[\"total_time\"]/QRC_parameters[\"time_steps\"]\n",
    "     #builds global Rabi and detuning pulses\n",
    "     rabi_oscillations_program = (QRC_parameters[\"geometry_spec\"]\n",
    "             .rydberg.rabi.amplitude.uniform.constant(\n",
    "                 duration=\"run_time\", value=QRC_parameters[\"rabi_frequency\"]\n",
    "             )\n",
    "             .detuning.uniform.constant(duration=\"run_time\", value=encoding_scale/2)\n",
    "             #adds local detuning according to the feature vector\n",
    "             .scale(list(xs1)).constant(duration=\"run_time\", value=-encoding_scale)\n",
    "             )\n",
    "     rabi_oscillation_job = rabi_oscillations_program.batch_assign(run_time=np.arange(1, QRC_parameters[\"time_steps\"]+1, 1)*dt)\n",
    "     #`batch_assign` used to probe the quantum reservoir at set number of timesteps\n",
    "     return rabi_oscillation_job\n",
    "\n",
    " #To obtain the embeddings, we process the report containing the collected samples into embeddins made of Z and ZZ observables.\n",
    " def process_results(QRC_parameters, report):\n",
    "     embedding=[]\n",
    "     natoms=QRC_parameters[\"atom_number\"]\n",
    "     try:\n",
    "         for t in range(QRC_parameters[\"time_steps\"]):\n",
    "             ar1=-1.0+2*((report.bitstrings())[t])\n",
    "             nsh1=ar1.shape[0]\n",
    "             for i in range(natoms):\n",
    "                 embedding.append(np.sum(ar1[:,i])/nsh1) #Z expectation values\n",
    "             if QRC_parameters[\"readouts\"]==\"ZZ\":\n",
    "                 for i in range(natoms):\n",
    "                     for j in range(i+1,natoms):\n",
    "                         embedding.append(np.sum(ar1[:,i]*ar1[:,j])/nsh1) #ZZ expectation values\n",
    "     except: #In case no experimental results were obtained.\n",
    "         print(\"No results exist.\")\n",
    "         for t in range(QRC_parameters[\"time_steps\"]):\n",
    "             for i in range(natoms):\n",
    "                 embedding.append(0.0)\n",
    "             if QRC_parameters[\"readouts\"]==\"ZZ\":\n",
    "                 for i in range(natoms):\n",
    "                     for j in range(i+1,natoms):\n",
    "                         embedding.append(0.0)\n",
    "     return embedding\n",
    "\n",
    " #Processing if only samples are needed.\n",
    " def process_results_samples(QRC_parameters, report):\n",
    "     embedding=[]\n",
    "     natoms=QRC_parameters[\"atom_number\"]\n",
    "     try:\n",
    "         embedding=report.bitstrings()\n",
    "         # for t in range(QRC_parameters[\"time_steps\"]):\\n\",\n",
    "         #     ar1=-1.0+2*((report.bitstrings())[t])\\n\",\n",
    "         #     nsh1=ar1.shape[0]\\n\",\n",
    "         #     for i in range(natoms):\\n\",\n",
    "         #         embedding.append(np.sum(ar1[:,i])/nsh1) #Z expectation values\\n\",\n",
    "         #     if QRC_parameters[\"readouts\"]==\"ZZ\":\\n\",\n",
    "         #         for i in range(natoms):\\n\",\n",
    "         #             for j in range(i+1,natoms):\\n\",\n",
    "         #                 embedding.append(np.sum(ar1[:,i]*ar1[:,j])/nsh1) #ZZ expectation values\\n\",\n",
    "     except: #In case no experimental results were obtained.\n",
    "         print(\"No results exist.\")\n",
    "         for t in range(QRC_parameters[\"time_steps\"]):\n",
    "             for i in range(natoms):\n",
    "                 embedding.append(0.0)\n",
    "             if QRC_parameters[\"readouts\"]==\"ZZ\":\n",
    "                 for i in range(natoms):\n",
    "                     for j in range(i+1,natoms):\n",
    "                         embedding.append(0.0)\n",
    "     return embedding"
   ]
  },
  {
   "cell_type": "code",
   "execution_count": 19,
   "id": "0f54db4a-65af-4795-8dc7-d179c37e4c20",
   "metadata": {},
   "outputs": [],
   "source": [
    "\n",
    "def get_embeddings_emulation(xs, num_examples, nshots=1000):\n",
    "    start_time = time.time()\n",
    "    result = np.array([process_results(QRC_parameters,\n",
    "        build_task(QRC_parameters, xs[data,:]).bloqade.python().run(shots=nshots, rtol=1e-8, atol=1e-8).report())\n",
    "        for data in range(num_examples)])\n",
    "    end_time = time.time()\n",
    "    print(f\"Bloqade Simulation Time: {round(end_time-start_time, 2)} seconds\")\n",
    "    return result"
   ]
  },
  {
   "cell_type": "code",
   "execution_count": 20,
   "id": "404a44bf-cef9-48aa-9438-f40266916a64",
   "metadata": {},
   "outputs": [
    {
     "name": "stdout",
     "output_type": "stream",
     "text": [
      "Bloqade Simulation Time: 1272.7 seconds\n",
      "Bloqade Simulation Time: 372.6 seconds\n",
      "(1000, 288)\n",
      "(200, 288)\n"
     ]
    }
   ],
   "source": [
    "embeddings=get_embeddings_emulation(xs, num_examples, nshots=1000)\n",
    "test_embeddings=get_embeddings_emulation(xs_test, num_test_examples, nshots=1000)\n",
    "\n",
    "print(embeddings.shape)\n",
    "print(test_embeddings.shape)"
   ]
  },
  {
   "cell_type": "code",
   "execution_count": 18,
   "id": "3dc71c72-f0a8-4290-8ea3-8022db89dc43",
   "metadata": {},
   "outputs": [
    {
     "name": "stdout",
     "output_type": "stream",
     "text": [
      "PCA test accuracy: 31.0 %\n"
     ]
    }
   ],
   "source": [
    "#building a linear model\n",
    "model = tf.keras.Sequential([\n",
    "    tf.keras.layers.Dense(10)\n",
    "    ])\n",
    "model.compile(optimizer=tf.keras.optimizers.Adam(learning_rate=0.1),\n",
    "              loss=tf.keras.losses.SparseCategoricalCrossentropy(from_logits=True),\n",
    "              metrics=['accuracy'])\n",
    "\n",
    "#fitting to train data\n",
    "model.fit(xs, train_y[:num_examples], epochs=1000, batch_size=100, verbose=0)\n",
    "\n",
    "#evaluating on test data\n",
    "test_loss, test_acc = model.evaluate(xs_test,  test_y[:num_test_examples], verbose=0)\n",
    "print('PCA test accuracy:', 100*round(test_acc, 2), \"%\")"
   ]
  },
  {
   "cell_type": "code",
   "execution_count": 21,
   "id": "cc3cac4b-0345-40fb-8d62-efe2e86b5f49",
   "metadata": {},
   "outputs": [
    {
     "name": "stdout",
     "output_type": "stream",
     "text": [
      "QRC test accuracy: 12.0 %\n"
     ]
    }
   ],
   "source": [
    "#building a linear model\n",
    "#we include regularization and tune epsilon parameter of the optimizer to better control training from QRC embeddings generated on finite number of samples\n",
    "model = tf.keras.Sequential([\n",
    "    tf.keras.layers.Dense(10, kernel_regularizer=tf.keras.regularizers.L1(l1=0.0001))\n",
    "    ])\n",
    "model.compile(optimizer=tf.keras.optimizers.Adam(epsilon=0.0002),\n",
    "              loss=tf.keras.losses.SparseCategoricalCrossentropy(from_logits=True),\n",
    "              metrics=['accuracy'])\n",
    "\n",
    "#fitting to train data\n",
    "model.fit(embeddings, train_y[:num_examples], epochs=2000, batch_size=100, verbose=0)\n",
    "\n",
    "#evaluating on test data\n",
    "test_loss, test_acc = model.evaluate(test_embeddings,  test_y[:num_test_examples], verbose=0)\n",
    "print('QRC test accuracy:', 100*round(test_acc, 2), \"%\")"
   ]
  },
  {
   "cell_type": "code",
   "execution_count": null,
   "id": "ff895425-9098-4a3b-b851-40f9d0a6703d",
   "metadata": {},
   "outputs": [],
   "source": []
  }
 ],
 "metadata": {
  "kernelspec": {
   "display_name": "Python (qisk)",
   "language": "python",
   "name": "qisk"
  },
  "language_info": {
   "codemirror_mode": {
    "name": "ipython",
    "version": 3
   },
   "file_extension": ".py",
   "mimetype": "text/x-python",
   "name": "python",
   "nbconvert_exporter": "python",
   "pygments_lexer": "ipython3",
   "version": "3.11.11"
  }
 },
 "nbformat": 4,
 "nbformat_minor": 5
}
